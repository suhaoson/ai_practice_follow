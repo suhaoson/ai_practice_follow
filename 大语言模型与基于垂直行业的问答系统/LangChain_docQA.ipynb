{
 "cells": [
  {
   "cell_type": "code",
   "execution_count": null,
   "metadata": {},
   "outputs": [],
   "source": [
    "import os\n",
    "# os.environ[\"OPENAI_API_KEY\"] = \"*\"\n",
    "os.environ[\"GOOGLE_API_KEY\"] = \"*\"\n",
    "\n",
    "\n",
    "# 1.Load 导入Document Loaders\n",
    "from langchain.document_loaders import PyPDFLoader\n",
    "from langchain.document_loaders import Docx2txtLoader\n",
    "from langchain.document_loaders import TextLoader\n",
    "\n",
    "# 加载Documents\n",
    "documents = []\n",
    "for file in os.listdir('OneFlower'):\n",
    "    if file.endswith('.pdf'):\n",
    "        pdf_path = './OneFlower/' + file\n",
    "        loader = PyPDFLoader(pdf_path)\n",
    "        documents.extend(loader.load())\n",
    "    elif file.endswith('.docx') or file.endswith('.doc'):\n",
    "        doc_path = './OneFlower/' + file\n",
    "        loader = Docx2txtLoader(doc_path)\n",
    "        documents.extend(loader.load())\n",
    "    elif file.endswith('.txt'):\n",
    "        text_path = './OneFlower/' + file\n",
    "        loader = TextLoader(text_path)\n",
    "        documents.extend(loader.load())\n"
   ]
  },
  {
   "cell_type": "code",
   "execution_count": null,
   "metadata": {},
   "outputs": [],
   "source": [
    "# 2.Split 将Documents切分成块以便后续进行嵌入和向量存储\n",
    "from langchain.text_splitter import RecursiveCharacterTextSplitter\n",
    "text_splitter = RecursiveCharacterTextSplitter(chunk_size=200,\n",
    "                                               chunk_overlap=10)\n",
    "chunked_documents = text_splitter.split_documents(documents)"
   ]
  },
  {
   "cell_type": "code",
   "execution_count": null,
   "metadata": {},
   "outputs": [],
   "source": [
    "# 3.Store 将分割嵌入并存储在矢量数据库Qdrant中\n",
    "from langchain.vectorstores import Qdrant\n",
    "from langchain.embeddings import OpenAIEmbeddings\n",
    "# from langchain_google_genai import GoogleGenerativeAIEmbeddings\n",
    "vectorstore = Qdrant.from_documents(\n",
    "    documents=chunked_documents, # 已分块的文档\n",
    "    embedding=OpenAIEmbeddings(), # 用OpenAI的Embedding Model 做嵌入\n",
    "    location=\":memory:\", # in-memory 存储\n",
    "    collection_name=\"my_documents\" # 指定collectio_name\n",
    ")"
   ]
  },
  {
   "cell_type": "code",
   "execution_count": null,
   "metadata": {},
   "outputs": [],
   "source": [
    "# 4.Retrieval 准备模型和Retrieval链\n",
    "import logging # 导入Logging工具\n",
    "from langchain.chain_models import ChatOpenAI # ChatOpenAI模型\n",
    "from langchain_google_genai import ChatGoogleGenerativeAI\n",
    "from langchain.retrievers.muti_query import MultiQueryRetriever # MultiQueryRetriever工具\n",
    "from langchain.chains import RetrievalQA # RetrievalQA链\n",
    "\n",
    "# 设置Logging\n",
    "logging.basicConfig()\n",
    "logging.getLogger('langchain.retrievers.multi_query').setLevel(logging.INFO)\n",
    "\n",
    "# 实例化一个大模型工具 - OpenAI的GPT-3.5\n",
    "llm = ChatOpenAI(model_name='gpt-3.5-turbo', temperature=0)\n",
    "\n",
    "# 实例化一个MultiQueryRetriever\n",
    "retriever_from_llm = MultiQueryRetriever.from_llm(retriever=vectorstore.as_retriever(), llm=llm)\n",
    "\n",
    "# 实例化一个RetrievalQA链\n",
    "qa_chain = RetrievalQA.from_chain_type(llm, retriever=vectorstore.as_retriever())"
   ]
  },
  {
   "cell_type": "code",
   "execution_count": null,
   "metadata": {},
   "outputs": [],
   "source": [
    "# 4.Retrieval 准备模型和Retrieval链\n",
    "import logging # 导入Logging工具\n",
    "from langchain_google_genai import ChatGoogleGenerativeAI # ChatGoogleGenerativeAI模型\n",
    "from langchain.retrievers.muti_query import MultiQueryRetriever # MultiQueryRetriever工具\n",
    "from langchain.chains import RetrievalQA # RetrievalQA链\n",
    "\n",
    "# 设置Logging\n",
    "logging.basicConfig()\n",
    "logging.getLogger('langchain.retrievers.multi_query').setLevel(logging.INFO)\n",
    "\n",
    "# 实例化一个大模型工具 - gemini-pro\n",
    "llm = ChatGoogleGenerativeAI(model=\"gemini-pro\")\n",
    "\n",
    "# 实例化一个MultiQueryRetriever\n",
    "retriever_from_llm = MultiQueryRetriever.from_llm(retriever=vectorstore.as_retriever(), llm=llm)\n",
    "\n",
    "# 实例化一个RetrievalQA链\n",
    "qa_chain = RetrievalQA.from_chain_type(llm, retriever=vectorstore.as_retriever())"
   ]
  },
  {
   "cell_type": "code",
   "execution_count": null,
   "metadata": {},
   "outputs": [],
   "source": [
    "# 5.问答展示\n",
    "def ask_question(query):\n",
    "    # 使用RetrievalQA链获取答案\n",
    "    response = qa_chain(query)\n",
    "\n",
    "    # 返回得到的答案\n",
    "    return response\n",
    "\n",
    "# 为用户提供交互界面进行回答\n",
    "while True:\n",
    "    # 获取用户的问题\n",
    "    user_query = input(\"有什么可以帮助您的，请提问（输入'exit'退出）：\")\n",
    "\n",
    "    # 如果用户输入'exit'，则退出循环\n",
    "    if user_query.lower() == 'exit':\n",
    "        break\n",
    "\n",
    "    # 使用定义的函数获取答案，并打印\n",
    "    answer = ask_question(user_query)\n",
    "    print('回复：', answer)\n",
    "\n",
    "print(\"谢谢使用 QA 系统\")"
   ]
  }
 ],
 "metadata": {
  "kernelspec": {
   "display_name": "Python 3",
   "language": "python",
   "name": "python3"
  },
  "language_info": {
   "codemirror_mode": {
    "name": "ipython",
    "version": 3
   },
   "file_extension": ".py",
   "mimetype": "text/x-python",
   "name": "python",
   "nbconvert_exporter": "python",
   "pygments_lexer": "ipython3",
   "version": "3.10.9"
  }
 },
 "nbformat": 4,
 "nbformat_minor": 2
}
